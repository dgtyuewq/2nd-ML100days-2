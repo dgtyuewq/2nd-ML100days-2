{
 "cells": [
  {
   "cell_type": "code",
   "execution_count": null,
   "metadata": {},
   "outputs": [],
   "source": [
    "import numpy as np\n",
    "import pandas as pd\n",
    "import matplotlib.pyplot as plt\n",
    "import seaborn as sns\n",
    "import datetime\n",
    "from sklearn.model_selection import cross_val_score,StratifiedKFold\n",
    "from sklearn.metrics import roc_auc_score,mean_squared_error\n",
    "from sklearn.ensemble import RandomForestClassifier\n",
    "import xgboost as xgb"
   ]
  },
  {
   "cell_type": "code",
   "execution_count": null,
   "metadata": {},
   "outputs": [],
   "source": [
    "X_train=pd.read_csv('train_offline.csv')\n",
    "X_test=pd.read_csv('test_offline.csv')\n"
   ]
  },
  {
   "cell_type": "code",
   "execution_count": null,
   "metadata": {},
   "outputs": [],
   "source": [
    "X_train['DateTime_received'] = X_train['Date_received'].apply(lambda x: pd.to_datetime(str(x), format='%Y%m%d'))\n",
    "X_train['DateTime'] = X_train['Date'].apply(lambda x: pd.to_datetime(str(x), format='%Y%m%d'))\n",
    "X_test['DateTime_received'] = X_test['Date_received'].apply(lambda x: pd.to_datetime(str(x), format='%Y%m%d'))\n",
    "X_test=X_test[~(X_test['DateTime_received'].isnull())]  #也可用 X_test.dropna(subset=['DateTime_received'])"
   ]
  },
  {
   "cell_type": "code",
   "execution_count": null,
   "metadata": {},
   "outputs": [],
   "source": [
    "label=[]\n",
    "x=np.datetime64('NaT')\n",
    "for r,u in zip(X_train['DateTime_received'].values,X_train['DateTime'].values) :\n",
    "    if r==x:\n",
    "        label.append('Invalid')\n",
    "    elif r!=x and u==x:\n",
    "        label.append('F')\n",
    "    elif r!=x and u!=x:\n",
    "        if u-r<=np.timedelta64(15,'D'):\n",
    "            label.append('T')\n",
    "        else :\n",
    "            label.append('F')\n",
    "            \n",
    "X_train['Label']=label\n",
    "X_train=X_train[~(all_data['Label']=='Invalid')]\n",
    "y_train=X_train['Label']\n"
   ]
  },
  {
   "cell_type": "code",
   "execution_count": null,
   "metadata": {},
   "outputs": [],
   "source": [
    "X_train['received_year'] =X_train['DateTime_received'].apply(lambda x: datetime.datetime.strftime(x, '%Y')).astype('int64')\n",
    "X_train['received_month'] =X_train['DateTime_received'].apply(lambda x: datetime.datetime.strftime(x, '%m')).astype('int64')\n",
    "X_train['received_day'] =X_train['DateTime_received'].apply(lambda x: datetime.datetime.strftime(x, '%d')).astype('int64')\n"
   ]
  },
  {
   "cell_type": "code",
   "execution_count": null,
   "metadata": {},
   "outputs": [],
   "source": [
    "X_test['received_year'] =X_test['DateTime_received'].apply(lambda x: datetime.datetime.strftime(x, '%Y')).astype('int64')\n",
    "X_test['received_month'] =X_test['DateTime_received'].apply(lambda x: datetime.datetime.strftime(x, '%m')).astype('int64')\n",
    "X_test['received_day'] =X_test['DateTime_received'].apply(lambda x: datetime.datetime.strftime(x, '%d')).astype('int64')\n",
    "\n"
   ]
  },
  {
   "cell_type": "code",
   "execution_count": null,
   "metadata": {},
   "outputs": [],
   "source": [
    "X_train.drop(['Date','Date_received','DateTime','DateTime_received','Label'],axis=1,inplace=True)\n",
    "X_test.drop(['Date_received','DateTime_received'],axis=1,inplace=True)"
   ]
  }
 ],
 "metadata": {
  "kernelspec": {
   "display_name": "Python 3",
   "language": "python",
   "name": "python3"
  },
  "language_info": {
   "codemirror_mode": {
    "name": "ipython",
    "version": 3
   },
   "file_extension": ".py",
   "mimetype": "text/x-python",
   "name": "python",
   "nbconvert_exporter": "python",
   "pygments_lexer": "ipython3",
   "version": "3.6.8"
  }
 },
 "nbformat": 4,
 "nbformat_minor": 2
}
