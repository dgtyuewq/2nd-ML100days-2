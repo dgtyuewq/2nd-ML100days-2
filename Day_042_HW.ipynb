{
 "cells": [
  {
   "cell_type": "markdown",
   "metadata": {},
   "source": [
    "## [作業重點]\n",
    "目前你應該已經要很清楚資料集中，資料的型態是什麼樣子囉！包含特徵 (features) 與標籤 (labels)。因此要記得未來不管什麼專案，必須要把資料清理成相同的格式，才能送進模型訓練。\n",
    "今天的作業開始踏入決策樹這個非常重要的模型，請務必確保你理解模型中每個超參數的意思，並試著調整看看，對最終預測結果的影響為何"
   ]
  },
  {
   "cell_type": "markdown",
   "metadata": {},
   "source": [
    "## 作業\n",
    "\n",
    "1. 試著調整 DecisionTreeClassifier(...) 中的參數，並觀察是否會改變結果？\n",
    "2. 改用其他資料集 (boston, wine)，並與回歸模型的結果進行比較"
   ]
  },
  {
   "cell_type": "code",
   "execution_count": 6,
   "metadata": {},
   "outputs": [
    {
     "name": "stdout",
     "output_type": "stream",
     "text": [
      "The decision tree classification 1 training scroe=0.8945258445258446\n",
      "The decision tree classification 2 training scroe=0.9093610093610092\n",
      "The decision tree classification 3 training scroe=0.8868335368335367\n"
     ]
    }
   ],
   "source": [
    "from sklearn import datasets\n",
    "from sklearn.model_selection import train_test_split,cross_val_score\n",
    "from sklearn.tree import DecisionTreeRegressor,DecisionTreeClassifier\n",
    "from sklearn.metrics import accuracy_score,mean_squared_error\n",
    "import numpy as np\n",
    "import pandas as pd\n",
    "import matplotlib.pyplot as plt\n",
    "\n",
    "row_data=datasets.load_wine()\n",
    "\n",
    "X_train,X_test,y_train,y_test=train_test_split(row_data.data,row_data.target,test_size=0.25,random_state=13)\n",
    "\n",
    "dtc1=DecisionTreeClassifier(max_depth=None,min_samples_split=2,min_samples_leaf=1)\n",
    "dtc2=DecisionTreeClassifier(max_depth=3,min_samples_split=2,min_samples_leaf=1)\n",
    "dtc3=DecisionTreeClassifier(max_depth=3,min_samples_split=5,min_samples_leaf=3)\n",
    "\n",
    "dtc1.fit(X_train,y_train)\n",
    "dtc2.fit(X_train,y_train)\n",
    "dtc3.fit(X_train,y_train)\n",
    "\n",
    "print(f'The decision tree classification 1 training scroe={cross_val_score(dtc1,X_train,y_train,cv=5).mean()}')\n",
    "print(f'The decision tree classification 2 training scroe={cross_val_score(dtc2,X_train,y_train,cv=5).mean()}')\n",
    "print(f'The decision tree classification 3 training scroe={cross_val_score(dtc3,X_train,y_train,cv=5).mean()}')"
   ]
  },
  {
   "cell_type": "code",
   "execution_count": 8,
   "metadata": {},
   "outputs": [
    {
     "name": "stdout",
     "output_type": "stream",
     "text": [
      "The test accuracy of decision tree classification 1=0.8666666666666667\n",
      "The test accuracy of decision tree classification 2=0.9777777777777777\n",
      "The test accuracy of decision tree classification 3=0.8888888888888888\n"
     ]
    }
   ],
   "source": [
    "y_pred_1=dtc1.predict(X_test)\n",
    "y_pred_2=dtc2.predict(X_test)\n",
    "y_pred_3=dtc3.predict(X_test)\n",
    "\n",
    "acc1=accuracy_score(y_test,y_pred_1)\n",
    "acc2=accuracy_score(y_test,y_pred_2)\n",
    "acc3=accuracy_score(y_test,y_pred_3)\n",
    "\n",
    "print(f'The test accuracy of decision tree classification 1={acc1}')\n",
    "print(f'The test accuracy of decision tree classification 2={acc2}')\n",
    "print(f'The test accuracy of decision tree classification 3={acc3}')"
   ]
  },
  {
   "cell_type": "code",
   "execution_count": 9,
   "metadata": {},
   "outputs": [
    {
     "name": "stdout",
     "output_type": "stream",
     "text": [
      "Feature importance:  [0.04460788 0.         0.         0.05745968 0.         0.\n",
      " 0.20168691 0.         0.         0.03547478 0.         0.2881814\n",
      " 0.37258936]\n",
      "Feature importance:  [0.         0.         0.         0.         0.02333204 0.\n",
      " 0.18802575 0.         0.         0.         0.0972423  0.30153966\n",
      " 0.38986024]\n",
      "Feature importance:  [0.         0.         0.         0.07093133 0.         0.\n",
      " 0.15044026 0.         0.03031311 0.0222737  0.         0.31664792\n",
      " 0.40939369]\n"
     ]
    }
   ],
   "source": [
    "print(\"Feature importance: \", dtc1.feature_importances_)\n",
    "print(\"Feature importance: \", dtc2.feature_importances_)\n",
    "print(\"Feature importance: \", dtc3.feature_importances_)"
   ]
  },
  {
   "cell_type": "code",
   "execution_count": null,
   "metadata": {},
   "outputs": [],
   "source": []
  }
 ],
 "metadata": {
  "kernelspec": {
   "display_name": "Python 3",
   "language": "python",
   "name": "python3"
  },
  "language_info": {
   "codemirror_mode": {
    "name": "ipython",
    "version": 3
   },
   "file_extension": ".py",
   "mimetype": "text/x-python",
   "name": "python",
   "nbconvert_exporter": "python",
   "pygments_lexer": "ipython3",
   "version": "3.6.8"
  }
 },
 "nbformat": 4,
 "nbformat_minor": 2
}
