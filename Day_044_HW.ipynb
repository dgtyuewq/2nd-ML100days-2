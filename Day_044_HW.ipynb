{
 "cells": [
  {
   "cell_type": "markdown",
   "metadata": {},
   "source": [
    "## [作業重點]\n",
    "確保你了解隨機森林模型中每個超參數的意義，並觀察調整超參數對結果的影響"
   ]
  },
  {
   "cell_type": "markdown",
   "metadata": {},
   "source": [
    "## 作業\n",
    "\n",
    "1. 試著調整 RandomForestClassifier(...) 中的參數，並觀察是否會改變結果？\n",
    "2. 改用其他資料集 (boston, wine)，並與回歸模型與決策樹的結果進行比較"
   ]
  },
  {
   "cell_type": "code",
   "execution_count": 1,
   "metadata": {},
   "outputs": [
    {
     "name": "stdout",
     "output_type": "stream",
     "text": [
      "The Decision Tree train score=0.878063492063492\n",
      "The Decision Tree test accuracy=0.8888888888888888\n"
     ]
    }
   ],
   "source": [
    "from sklearn import datasets\n",
    "from sklearn.ensemble import RandomForestClassifier,RandomForestRegressor\n",
    "from sklearn.tree import DecisionTreeClassifier\n",
    "from sklearn.model_selection import train_test_split,cross_val_score\n",
    "from sklearn.metrics import accuracy_score,mean_squared_error\n",
    "import numpy as np\n",
    "import pandas as pd\n",
    "import matplotlib.pyplot as plt\n",
    "\n",
    "row_data=datasets.load_wine()\n",
    "X_train,X_test,y_train,y_test=train_test_split(row_data.data,row_data.target,test_size=0.25,random_state=14)\n",
    "\n",
    "dt=DecisionTreeClassifier(max_depth=5,min_samples_split=2,min_samples_leaf=1)\n",
    "rf=RandomForestClassifier(n_estimators=30,max_depth=5,min_samples_split=2,min_samples_leaf=1)\n",
    "\n",
    "dt.fit(X_train,y_train)\n",
    "print(f'The Decision Tree train score={cross_val_score(dt,X_train,y_train,cv=5).mean()}')\n",
    "\n",
    "y_pred_dt=dt.predict(X_test)\n",
    "acc_dt=accuracy_score(y_test,y_pred_dt)\n",
    "\n",
    "print(f'The Decision Tree test accuracy={acc_dt}')"
   ]
  },
  {
   "cell_type": "code",
   "execution_count": 2,
   "metadata": {},
   "outputs": [
    {
     "name": "stdout",
     "output_type": "stream",
     "text": [
      "The Randon Forest train score=0.9703068783068783\n",
      "The Decision Tree test accuracy=1.0\n"
     ]
    }
   ],
   "source": [
    "rf.fit(X_train,y_train)\n",
    "print(f'The Randon Forest train score={cross_val_score(rf,X_train,y_train,cv=5).mean()}')\n",
    "\n",
    "y_pred_rf=rf.predict(X_test)\n",
    "acc_rf=accuracy_score(y_test,y_pred_rf)\n",
    "\n",
    "print(f'The Decision Tree test accuracy={acc_rf}')"
   ]
  },
  {
   "cell_type": "code",
   "execution_count": null,
   "metadata": {},
   "outputs": [],
   "source": []
  }
 ],
 "metadata": {
  "kernelspec": {
   "display_name": "Python 3",
   "language": "python",
   "name": "python3"
  },
  "language_info": {
   "codemirror_mode": {
    "name": "ipython",
    "version": 3
   },
   "file_extension": ".py",
   "mimetype": "text/x-python",
   "name": "python",
   "nbconvert_exporter": "python",
   "pygments_lexer": "ipython3",
   "version": "3.6.8"
  }
 },
 "nbformat": 4,
 "nbformat_minor": 2
}
