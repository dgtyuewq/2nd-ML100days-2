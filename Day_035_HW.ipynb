{
 "cells": [
  {
   "cell_type": "markdown",
   "metadata": {},
   "source": [
    "## 練習時間\n",
    "相信大家對回歸問題及分類問題都有初步的了解。今天的作業希望大家搜尋有關 multi-label 的案例問題。下圖是電影 \"奇異博士\" 的分類。可以看到同時有 \"Action\", \"Adventure\", \"Fantasy\" 的類別存在，代表這是個多標籤的問題。 "
   ]
  },
  {
   "cell_type": "markdown",
   "metadata": {},
   "source": [
    "![image](https://cdn-images-1.medium.com/max/1000/1*r0gYXMSQf5VhdMyl2bRDyg.png)"
   ]
  },
  {
   "cell_type": "markdown",
   "metadata": {},
   "source": [
    "## 請搜尋目標為多標籤問題 (Multi-label) 的機器學習案例，了解其資料來源、目標以及評估指標為何\n",
    "## Hint: 服飾"
   ]
  },
  {
   "cell_type": "markdown",
   "metadata": {},
   "source": [
    "出處 : https://www.freecodecamp.org/news/multi-class-classification-with-sci-kit-learn-xgboost-a-case-study-using-brainwave-data-363d7fca5f69/"
   ]
  },
  {
   "cell_type": "markdown",
   "metadata": {},
   "source": [
    "資料來源 : \n",
    " J. J. Bird, L. J. Manso, E. P. Ribiero, A. Ekart, and D. R. Faria, “A study on mental state classification using eeg-based brain-machine interface,”in 9th International Conference on Intelligent Systems, IEEE, 2018.\n",
    "\n",
    "J. J. Bird, A. Ekart, C. D. Buckingham, and D. R. Faria, “Mental emotional sentiment classification with an eeg-based brain-machine interface,” in The International Conference on Digital Image and Signal Processing (DISP’19), Springer, 2019."
   ]
  },
  {
   "cell_type": "markdown",
   "metadata": {},
   "source": [
    "目標 : Can we predict emotional sentiment from brainwave readings? 我們是否能從腦波研究來判斷情緒反應 ?"
   ]
  },
  {
   "cell_type": "markdown",
   "metadata": {},
   "source": [
    "評估指標 : accuracy"
   ]
  },
  {
   "cell_type": "code",
   "execution_count": null,
   "metadata": {},
   "outputs": [],
   "source": []
  }
 ],
 "metadata": {
  "kernelspec": {
   "display_name": "Python 3",
   "language": "python",
   "name": "python3"
  },
  "language_info": {
   "codemirror_mode": {
    "name": "ipython",
    "version": 3
   },
   "file_extension": ".py",
   "mimetype": "text/x-python",
   "name": "python",
   "nbconvert_exporter": "python",
   "pygments_lexer": "ipython3",
   "version": "3.6.8"
  }
 },
 "nbformat": 4,
 "nbformat_minor": 2
}
